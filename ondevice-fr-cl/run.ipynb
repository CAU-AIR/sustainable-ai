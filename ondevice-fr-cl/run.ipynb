{
 "cells": [
  {
   "cell_type": "code",
   "execution_count": 9,
   "metadata": {},
   "outputs": [],
   "source": [
    "\n",
    "from argparse import Namespace\n",
    "from torch.utils.data import DataLoader\n",
    "\n",
    "from datasets import *\n",
    "from scenario import *\n",
    "from models import *\n",
    "from method import *\n",
    "from scenario.evaluators import *\n",
    "\n",
    "from utils import seedEverything, AverageMeter\n",
    "import progressbar"
   ]
  },
  {
   "cell_type": "code",
   "execution_count": 10,
   "metadata": {},
   "outputs": [],
   "source": [
    "# args\n",
    "args = Namespace()\n",
    "class Config:\n",
    "    batch_size = 128\n",
    "    lr = 0.01\n",
    "    nowand = 1\n",
    "    n_epochs = 3\n",
    "    debug = 1\n",
    "    save_path = 'save/cifar10'\n",
    "    save_model = 1\n",
    "\n",
    "args = Config"
   ]
  },
  {
   "cell_type": "code",
   "execution_count": 11,
   "metadata": {},
   "outputs": [],
   "source": [
    "# seed\n",
    "seedEverything(0)"
   ]
  },
  {
   "cell_type": "code",
   "execution_count": 12,
   "metadata": {},
   "outputs": [
    {
     "name": "stdout",
     "output_type": "stream",
     "text": [
      "Files already downloaded and verified\n",
      "Files already downloaded and verified\n",
      "Files already downloaded and verified\n",
      "Seed is not fixed, initialize indices!\n",
      "Completed (query index, retrieval index) shape : (5000, 5000)\n"
     ]
    }
   ],
   "source": [
    "# scenario\n",
    "splitcifar10 = SplitCIFAR10(root='./data')\n",
    "paircifar10 = PairCIFAR10(root='./data')\n",
    "\n",
    "train_scenario = ClassIncremental(\n",
    "        dataset=splitcifar10, n_tasks=splitcifar10._DEFAULT_N_TASKS, batch_size=32, n_workers=0\n",
    "    )\n",
    "test_scenario = VerificationScenario(\n",
    "    dataset=paircifar10, n_tasks=paircifar10._DEFAULT_N_TASKS, batch_size=32, n_workers=0\n",
    ")"
   ]
  },
  {
   "cell_type": "code",
   "execution_count": 13,
   "metadata": {},
   "outputs": [],
   "source": [
    "n_classes = splitcifar10.n_classes()\n",
    "args.N_CLASSES_PER_TASK = splitcifar10._N_CLASSES_PER_TASK\n",
    "args._DEFAULT_N_TASKS = splitcifar10._DEFAULT_N_TASKS"
   ]
  },
  {
   "cell_type": "code",
   "execution_count": 14,
   "metadata": {},
   "outputs": [],
   "source": [
    "# model\n",
    "net = resnet18(n_classes)\n",
    "loss = torch.nn.CrossEntropyLoss()\n",
    "method = LwF(net, loss, args, None)"
   ]
  },
  {
   "cell_type": "code",
   "execution_count": 15,
   "metadata": {},
   "outputs": [],
   "source": [
    "# logger (wandb & local & tensorboard)\n",
    "# def set_loggers()\n",
    "#     raise NotImplementedError"
   ]
  },
  {
   "cell_type": "code",
   "execution_count": 8,
   "metadata": {},
   "outputs": [],
   "source": [
    "# train\n",
    "\n",
    "# 1. before train : set loggers\n",
    "# set_loggers()\n",
    "\n",
    "# 2. train\n",
    "def train(task_id, train_loader, n_epochs=10):\n",
    "    #- Start Epoch\n",
    "    scheduler = None\n",
    "    for epoch in range(n_epochs):\n",
    "        #-- Start Iteration\n",
    "        losses = AverageMeter()\n",
    "        for idx, (inputs, labels, task, not_aug_inputs) in enumerate(train_loader):\n",
    "            inputs, labels, not_aug_inputs = inputs.to(device), labels.to(device), not_aug_inputs.to(device)\n",
    "\n",
    "            if hasattr(method, 'meta_observe'):\n",
    "                loss = method.meta_observe(inputs, labels, not_aug_inputs)\n",
    "            else:\n",
    "                loss = method.observe(inputs, labels, not_aug_inputs)\n",
    "            losses.update(loss, inputs.size(0))\n",
    "        \n",
    "        if scheduler is not None:\n",
    "            scheduler.step()\n",
    "        \n",
    "\n",
    "        "
   ]
  },
  {
   "cell_type": "code",
   "execution_count": 18,
   "metadata": {},
   "outputs": [],
   "source": [
    "n_epochs = 50"
   ]
  },
  {
   "cell_type": "code",
   "execution_count": 24,
   "metadata": {},
   "outputs": [
    {
     "name": "stderr",
     "output_type": "stream",
     "text": [
      "[Task:0|Epoch:49] Avg Loss: 0.0053149: 100%|██████████| 50/50 [01:42<00:00,  2.06s/it]\n"
     ]
    }
   ],
   "source": [
    "method.net.to(method.device)\n",
    "\n",
    "for task_id, train_loader in enumerate(train_scenario):\n",
    "    #- Start Epoch\n",
    "    scheduler = None\n",
    "    pbar = tqdm(range(n_epochs))\n",
    "    for epoch in pbar:\n",
    "        #-- Start Iteration\n",
    "        losses = AverageMeter()\n",
    "        for idx, (inputs, labels, task, not_aug_inputs) in enumerate(train_loader):\n",
    "            if idx > 100:\n",
    "                break\n",
    "            inputs, labels, not_aug_inputs = inputs.to(method.device), labels.to(method.device), not_aug_inputs.to(method.device)\n",
    "\n",
    "            if hasattr(method, 'meta_observe'):\n",
    "                loss = method.meta_observe(inputs, labels, not_aug_inputs)\n",
    "            else:\n",
    "                loss = method.observe(inputs, labels, not_aug_inputs)\n",
    "            losses.update(loss, inputs.size(0))\n",
    "        \n",
    "        if scheduler is not None:\n",
    "            scheduler.step()\n",
    "            \n",
    "        pbar.set_description(f\"[Task:{task_id}|Epoch:{epoch}] Avg Loss: {losses.avg:.5}\")\n",
    "    break"
   ]
  },
  {
   "cell_type": "code",
   "execution_count": null,
   "metadata": {},
   "outputs": [
    {
     "data": {
      "image/png": "[encoded data removed]",
      "text/plain": [
       "<Figure size 640x480 with 1 Axes>"
      ]
     },
     "metadata": {},
     "output_type": "display_data"
    }
   ],
   "source": [
    "# visualize inputs\n",
    "import matplotlib.pyplot as plt\n",
    "import numpy as np\n",
    "\n",
    "def imshow(img):\n",
    "    npimg = img.numpy()\n",
    "    plt.imshow(np.transpose(npimg, (1, 2, 0)))\n",
    "    plt.show()\n",
    "    \n",
    "imshow(inputs[1])"
   ]
  },
  {
   "cell_type": "code",
   "execution_count": 10,
   "metadata": {},
   "outputs": [],
   "source": [
    "cifar10_verif_evaluator = VerificationEvaluator(method=method, eval_scenario=test_scenario, name=\"Verification\")"
   ]
  },
  {
   "cell_type": "code",
   "execution_count": 11,
   "metadata": {},
   "outputs": [
    {
     "name": "stdout",
     "output_type": "stream",
     "text": [
      "\n",
      "Representation | Observed Verification-Acc: 53.88 | Observed Verification-Auc: 54.47 |\n"
     ]
    }
   ],
   "source": [
    "accs = cifar10_verif_evaluator.fit(current_task_id=1, logger=None)"
   ]
  },
  {
   "cell_type": "code",
   "execution_count": null,
   "metadata": {},
   "outputs": [
    {
     "data": {
      "text/plain": [
       "56.64"
      ]
     },
     "execution_count": 14,
     "metadata": {},
     "output_type": "execute_result"
    }
   ],
   "source": [
    "accs"
   ]
  },
  {
   "cell_type": "code",
   "execution_count": 29,
   "metadata": {},
   "outputs": [
    {
     "data": {
      "text/plain": [
       "<All keys matched successfully>"
      ]
     },
     "execution_count": 29,
     "metadata": {},
     "output_type": "execute_result"
    }
   ],
   "source": [
    "state_dict = torch.load(\"save/cifar10/lwf_1.pth\")\n",
    "\n",
    "method.net.load_state_dict(state_dict)"
   ]
  }
 ],
 "metadata": {
  "kernelspec": {
   "display_name": "torch",
   "language": "python",
   "name": "python3"
  },
  "language_info": {
   "codemirror_mode": {
    "name": "ipython",
    "version": 3
   },
   "file_extension": ".py",
   "mimetype": "text/x-python",
   "name": "python",
   "nbconvert_exporter": "python",
   "pygments_lexer": "ipython3",
   "version": "3.9.15"
  },
  "orig_nbformat": 4
 },
 "nbformat": 4,
 "nbformat_minor": 2
}
