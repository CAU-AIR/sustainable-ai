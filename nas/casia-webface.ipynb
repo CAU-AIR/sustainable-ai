{
 "cells": [
  {
   "cell_type": "code",
   "execution_count": 6,
   "metadata": {},
   "outputs": [],
   "source": [
    "import os\n",
    "import shutil\n",
    "from PIL import Image\n",
    "from sklearn.model_selection import train_test_split\n",
    "\n",
    "import torch\n",
    "from torch.utils.data import Dataset, DataLoader\n",
    "from torchvision import transforms"
   ]
  },
  {
   "cell_type": "code",
   "execution_count": 7,
   "metadata": {},
   "outputs": [],
   "source": [
    "class CASIAWebFaceDataset(Dataset):\n",
    "    def __init__(self, file_list, transform=None):\n",
    "        self.file_list = file_list\n",
    "        self.transform = transform\n",
    "\n",
    "    def __len__(self):\n",
    "        return len(self.file_list)\n",
    "\n",
    "    def __getitem__(self, idx):\n",
    "        img_path, label = self.file_list[idx]\n",
    "        image = Image.open(img_path).convert('RGB')\n",
    "\n",
    "        if self.transform:\n",
    "            image = self.transform(image)\n",
    "\n",
    "        return image, label"
   ]
  },
  {
   "cell_type": "code",
   "execution_count": 8,
   "metadata": {},
   "outputs": [],
   "source": [
    "def split_data(dataset_path, test_split=0.1, val_split=0.1, min_samples_per_class=10):\n",
    "    classes = os.listdir(dataset_path)\n",
    "    train_files, val_files, test_files = [], [], []\n",
    "\n",
    "    for cls in classes:\n",
    "        cls_folder = os.path.join(dataset_path, cls)\n",
    "        cls_files = [os.path.join(cls_folder, file) for file in os.listdir(cls_folder)]\n",
    "\n",
    "        if len(cls_files) < min_samples_per_class:\n",
    "            train_files += [(file, cls) for file in cls_files]\n",
    "        else:\n",
    "            cls_train_val, cls_test = train_test_split(cls_files, test_size=test_split)\n",
    "            cls_train, cls_val = train_test_split(cls_train_val, test_size=val_split)\n",
    "\n",
    "            train_files += [(file, cls) for file in cls_train]\n",
    "            val_files += [(file, cls) for file in cls_val]\n",
    "            test_files += [(file, cls) for file in cls_test]\n",
    "\n",
    "    return train_files, val_files, test_files"
   ]
  },
  {
   "cell_type": "code",
   "execution_count": 9,
   "metadata": {},
   "outputs": [],
   "source": [
    "dataset_path = 'dataset/CasiaAligned' # 데이터셋 경로 지정\n",
    "\n",
    "# 데이터 분할\n",
    "train_files, val_files, test_files = split_data(dataset_path)"
   ]
  },
  {
   "cell_type": "code",
   "execution_count": 10,
   "metadata": {},
   "outputs": [
    {
     "name": "stdout",
     "output_type": "stream",
     "text": [
      "389295\n",
      "48567\n",
      "53774\n"
     ]
    }
   ],
   "source": [
    "print(len(train_files))\n",
    "print(len(val_files))\n",
    "print(len(test_files))"
   ]
  },
  {
   "cell_type": "code",
   "execution_count": 11,
   "metadata": {},
   "outputs": [],
   "source": [
    "def save_split_data(train_files, val_files, test_files, dataset_path):\n",
    "    # Train 데이터 저장\n",
    "    for file_path, cls in train_files:\n",
    "        dest_folder = os.path.join(dataset_path, 'train', cls)\n",
    "        os.makedirs(dest_folder, exist_ok=True)\n",
    "        shutil.copy(file_path, dest_folder)\n",
    "\n",
    "    # Val 데이터 저장\n",
    "    val_dest_folder = os.path.join(dataset_path, 'val', 'images')\n",
    "    os.makedirs(val_dest_folder, exist_ok=True)\n",
    "    for file_path, _ in val_files:\n",
    "        shutil.copy(file_path, val_dest_folder)\n",
    "\n",
    "    # Test 데이터 저장\n",
    "    test_dest_folder = os.path.join(dataset_path, 'test', 'images')\n",
    "    os.makedirs(test_dest_folder, exist_ok=True)\n",
    "    for file_path, _ in test_files:\n",
    "        shutil.copy(file_path, test_dest_folder)"
   ]
  },
  {
   "cell_type": "code",
   "execution_count": 12,
   "metadata": {},
   "outputs": [],
   "source": [
    "save_split_data(train_files, val_files, test_files, 'dataset/CASIAWebFace')"
   ]
  }
 ],
 "metadata": {
  "kernelspec": {
   "display_name": "lab",
   "language": "python",
   "name": "python3"
  },
  "language_info": {
   "codemirror_mode": {
    "name": "ipython",
    "version": 3
   },
   "file_extension": ".py",
   "mimetype": "text/x-python",
   "name": "python",
   "nbconvert_exporter": "python",
   "pygments_lexer": "ipython3",
   "version": "3.8.16"
  }
 },
 "nbformat": 4,
 "nbformat_minor": 2
}
